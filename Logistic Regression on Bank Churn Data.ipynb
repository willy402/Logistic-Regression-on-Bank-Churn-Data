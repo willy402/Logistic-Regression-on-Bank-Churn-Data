{
 "cells": [
  {
   "cell_type": "markdown",
   "id": "a607fe00",
   "metadata": {},
   "source": [
    "    Import the necessary libraries and load the dataset"
   ]
  },
  {
   "cell_type": "code",
   "execution_count": 1,
   "id": "e0e8d117",
   "metadata": {},
   "outputs": [],
   "source": [
    "import pandas as pd"
   ]
  },
  {
   "cell_type": "code",
   "execution_count": 2,
   "id": "0bc51ebc",
   "metadata": {},
   "outputs": [],
   "source": [
    "import numpy as np"
   ]
  },
  {
   "cell_type": "code",
   "execution_count": 3,
   "id": "1903818c",
   "metadata": {},
   "outputs": [],
   "source": [
    "from sklearn.model_selection import train_test_split"
   ]
  },
  {
   "cell_type": "code",
   "execution_count": 4,
   "id": "bf48f9fd",
   "metadata": {},
   "outputs": [],
   "source": [
    "from sklearn.linear_model import LogisticRegression"
   ]
  },
  {
   "cell_type": "code",
   "execution_count": 5,
   "id": "cc1533e4",
   "metadata": {},
   "outputs": [],
   "source": [
    "from sklearn.metrics import confusion_matrix, classification_report"
   ]
  },
  {
   "cell_type": "code",
   "execution_count": 6,
   "id": "0ad665d5",
   "metadata": {},
   "outputs": [],
   "source": [
    "dataset = pd.read_csv(r'C:\\Users\\Victor Kithinzi\\Downloads\\Churn_Modelling.csv')"
   ]
  },
  {
   "cell_type": "markdown",
   "id": "ef8dbf45",
   "metadata": {},
   "source": [
    "    Preprocess the data:\n",
    "\n",
    "    Drop the RowNumber, CustomerId, and Surname columns as they are not relevant for our analysis.\n",
    "    Encode the categorical variables Geography and Gender into numerical values using pd.get_dummies().\n",
    "    Split the data into training and testing sets using train_test_split()."
   ]
  },
  {
   "cell_type": "code",
   "execution_count": 7,
   "id": "693e8ef2",
   "metadata": {},
   "outputs": [],
   "source": [
    "dataset = dataset.drop([\"RowNumber\", \"CustomerId\", \"Surname\"], axis=1)\n",
    "\n",
    "geography = pd.get_dummies(dataset[\"Geography\"], drop_first=True)\n",
    "gender = pd.get_dummies(dataset[\"Gender\"], drop_first=True)\n",
    "dataset = pd.concat([dataset, geography, gender], axis=1)\n",
    "dataset = dataset.drop([\"Geography\", \"Gender\"], axis=1)\n",
    "\n",
    "X = dataset.drop(\"Exited\", axis=1)\n",
    "y = dataset[\"Exited\"]\n",
    "X_train, X_test, y_train, y_test = train_test_split(X, y, test_size=0.2, random_state=0)"
   ]
  },
  {
   "cell_type": "markdown",
   "id": "76052a03",
   "metadata": {},
   "source": [
    "    Train the Logistic Regression model"
   ]
  },
  {
   "cell_type": "code",
   "execution_count": 8,
   "id": "00253b0a",
   "metadata": {},
   "outputs": [
    {
     "data": {
      "text/plain": [
       "LogisticRegression(random_state=0)"
      ]
     },
     "execution_count": 8,
     "metadata": {},
     "output_type": "execute_result"
    }
   ],
   "source": [
    "classifier = LogisticRegression(random_state=0)\n",
    "classifier.fit(X_train, y_train)"
   ]
  },
  {
   "cell_type": "markdown",
   "id": "32bd07e9",
   "metadata": {},
   "source": [
    "    Predict using the trained model on the test set and evaluate its performance using confusion_matrix and classification_report"
   ]
  },
  {
   "cell_type": "code",
   "execution_count": 9,
   "id": "3b8086bd",
   "metadata": {},
   "outputs": [
    {
     "name": "stdout",
     "output_type": "stream",
     "text": [
      "[[1553   42]\n",
      " [ 380   25]]\n",
      "              precision    recall  f1-score   support\n",
      "\n",
      "           0       0.80      0.97      0.88      1595\n",
      "           1       0.37      0.06      0.11       405\n",
      "\n",
      "    accuracy                           0.79      2000\n",
      "   macro avg       0.59      0.52      0.49      2000\n",
      "weighted avg       0.72      0.79      0.72      2000\n",
      "\n"
     ]
    }
   ],
   "source": [
    "y_pred = classifier.predict(X_test)\n",
    "cm = confusion_matrix(y_test, y_pred)\n",
    "print(cm)\n",
    "\n",
    "print(classification_report(y_test, y_pred))"
   ]
  },
  {
   "cell_type": "code",
   "execution_count": null,
   "id": "61b4effc",
   "metadata": {},
   "outputs": [],
   "source": []
  }
 ],
 "metadata": {
  "kernelspec": {
   "display_name": "Python 3 (ipykernel)",
   "language": "python",
   "name": "python3"
  },
  "language_info": {
   "codemirror_mode": {
    "name": "ipython",
    "version": 3
   },
   "file_extension": ".py",
   "mimetype": "text/x-python",
   "name": "python",
   "nbconvert_exporter": "python",
   "pygments_lexer": "ipython3",
   "version": "3.9.13"
  }
 },
 "nbformat": 4,
 "nbformat_minor": 5
}
